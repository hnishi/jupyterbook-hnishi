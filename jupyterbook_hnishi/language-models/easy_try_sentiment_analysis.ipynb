{
  "nbformat": 4,
  "nbformat_minor": 0,
  "metadata": {
    "colab": {
      "name": "20200808_try_sentiment_analysis.ipynb",
      "provenance": [],
      "collapsed_sections": [],
      "include_colab_link": true
    },
    "kernelspec": {
      "display_name": "Python 3",
      "language": "python",
      "name": "python3"
    },
    "language_info": {
      "codemirror_mode": {
        "name": "ipython",
        "version": 3
      },
      "file_extension": ".py",
      "mimetype": "text/x-python",
      "name": "python",
      "nbconvert_exporter": "python",
      "pygments_lexer": "ipython3",
      "version": "3.8.3"
    }
  },
  "cells": [
    {
      "cell_type": "markdown",
      "metadata": {
        "id": "view-in-github",
        "colab_type": "text"
      },
      "source": [
        "<a href=\"https://colab.research.google.com/github/hnishi/jupyterbook-hnishi/blob/colab-dev/jupyterbook_hnishi/language-models/easy_try_sentiment_analysis.ipynb\" target=\"_parent\"><img src=\"https://colab.research.google.com/assets/colab-badge.svg\" alt=\"Open In Colab\"/></a>"
      ]
    },
    {
      "cell_type": "markdown",
      "metadata": {
        "id": "3AE0PMo_ZOIt"
      },
      "source": [
        "# Python で日本語文章の感情分析を簡単に試す (with google colab)\n",
        "\n",
        "* 感情分析をお手軽に試したいときに使えるツールをまとめました。\n",
        "* 日本語文章の感情分析の手法については本記事では詳しく触れませんが、以下の記事にわかりやすくまとまっていると思います。\n",
        "    * [【自然言語処理】感情分析の進め方＆ハマりやすいポイント - Qiita](https://qiita.com/toshiyuki_tsutsui/items/604f92dbe6e20a18a17e)\n",
        "    * [ディープラーニングを使って転職会議の企業クチコミデータを感情分析してみる - Qiita](https://qiita.com/terrierscript/items/54daa5aedde599e2637c)"
      ]
    },
    {
      "cell_type": "markdown",
      "metadata": {
        "id": "8X_Xynj-dumB"
      },
      "source": [
        "## 感情分析を簡単に試すときに使えるツール一覧\n",
        "\n",
        "試してみたツールを箇条書きにして以下に示します。\n",
        "\n",
        "- [asari](https://github.com/Hironsan/asari)\n",
        "    - [日本語 Sentiment Analyzer を作ってパッケージ化した話 - Ahogrammer](https://hironsan.hatenablog.com/entry/japanese-sentiment-analyzer)\n",
        "    - sklearnのTfidfVectorizerとLinearSVCしか使っていない\n",
        "    - BERT による予測と遜色ない性能\n",
        "    - トレーニングデータセットが不明\n",
        "    - MIT ライセンス\n",
        "    - [デモサイト](https://asari-sentiment.herokuapp.com/)\n",
        "- [oseti](https://github.com/ikegami-yukino/oseti)\n",
        "    - [日本語評価極性辞書を利用したPython用Sentiment Analysisライブラリ oseti を公開しました - Qiita](https://qiita.com/yukinoi/items/46aa016d83bb0e64f598)\n",
        "    - 辞書ベース\n",
        "    - 実装はシンプル\n",
        "    - MIT ライセンス\n",
        "- [pymlask](https://github.com/ikegami-yukino/pymlask)\n",
        "    - [ML-Askでテキストの感情分析 - Qiita](https://qiita.com/yukinoi/items/ef6fb48b5e3694e9659c)\n",
        "    - a Python version of ML-Ask (eMotive eLement and Expression Analysis system)\n",
        "    - 2,100語の辞書によるパターンマッチングで{喜, 怒, 哀, 怖, 恥, 好, 厭, 昂, 安, 驚}の10種類の感情を推定\n",
        "    - The BSD 3-Clause License\n",
        "- [huggingface の bert-base-japanese-sentiment](https://huggingface.co/daigo/bert-base-japanese-sentiment)\n",
        "    - [bert-base-japanese-sentiment モデル作者の BERT HANDSON 資料](https://github.com/ydaigo/BERT_HANDSON/blob/master/BERT_HANDS_ON.ipynb)\n",
        "    - ネガポジ判定 (ポジティヴとネガティヴの binary classification)\n",
        "    - bert-base-japanese-char-whole-word-masking というモデルを自作データセットでファインチューニング"
      ]
    },
    {
      "cell_type": "markdown",
      "metadata": {
        "id": "p3llrsnUxE84"
      },
      "source": [
        "## 必要なライブラリのインストール\n"
      ]
    },
    {
      "cell_type": "code",
      "metadata": {
        "id": "ISwex7dddfPs"
      },
      "source": [
        "%%capture capt\n",
        "\n",
        "# MeCabのインストール\n",
        "!apt install mecab libmecab-dev mecab-ipadic-utf8\n",
        "!pip install mecab-python3\n",
        "\n",
        "# mecab-ipadic-NEologdのインストール\n",
        "!apt install git make curl xz-utils file\n",
        "!git clone --depth 1 https://github.com/neologd/mecab-ipadic-neologd.git\n",
        "!echo yes | mecab-ipadic-neologd/bin/install-mecab-ipadic-neologd -n -a\n",
        "\n",
        "# Ref: https://qiita.com/Fulltea/items/90f6ebe6dcceaf64eaef\n",
        "# Ref: https://qiita.com/SUZUKI_Masaya/items/685000d569452585210c\n",
        "\n",
        "!ln -s /etc/mecabrc /usr/local/etc/mecabrc\n",
        "# Ref: https://qiita.com/Naritoshi/items/8f55d7d5cce9ce414395"
      ],
      "execution_count": null,
      "outputs": []
    },
    {
      "cell_type": "code",
      "metadata": {
        "colab": {
          "base_uri": "https://localhost:8080/",
          "height": 34
        },
        "id": "0tSheAhzdmIL",
        "outputId": "5fb90a0d-356e-48b8-d61e-5ba9daec1c4e"
      },
      "source": [
        "# 感情分析のためのライブラリ\n",
        "!pip install -q asari oseti pymlask\n",
        "# asari==0.0.4 requires Janome==0.3.7\n",
        "# see https://github.com/Hironsan/asari/issues/9#issuecomment-695706645\n",
        "!pip install Janome==0.3.7"
      ],
      "execution_count": null,
      "outputs": [
        {
          "output_type": "stream",
          "text": [
            "Requirement already satisfied: Janome==0.3.7 in /usr/local/lib/python3.6/dist-packages (0.3.7)\n"
          ],
          "name": "stdout"
        }
      ]
    },
    {
      "cell_type": "markdown",
      "metadata": {
        "id": "6Ql6AXq7xBbU"
      },
      "source": [
        "## データの準備\n",
        "\n",
        "感情分析の入力として使う文章は、青空文庫の\n",
        "\n",
        "[『人形つかい』  \n",
        "ハンス・クリスチャン・アンデルセン　Hans Christian Andersen\n",
        "（矢崎源九郎訳）](https://www.aozora.gr.jp/cards/000019/files/60068_71441.html)\n",
        "\n",
        "からピックアップさせていただきました。"
      ]
    },
    {
      "cell_type": "code",
      "metadata": {
        "id": "QYFyr2Eyj1pQ"
      },
      "source": [
        "list_text = [\n",
        "             'この人は、この世の中で、いちばんしあわせな人にちがいありません。',\n",
        "             '芝居小屋もすばらしいし、お客さんもすばらしい人たちでした。',\n",
        "             'もし中世の時代だったら、おそらく、火あぶりにされたでしょうよ。',\n",
        "             'みんなのうるさいことといったら、まるで、ハエがびんの中で、ブンブンいっているようでした。',\n",
        "             'われわれ人間が、こういうことを考えだすことができるとすれば、われわれは、地の中にうめられるまでに、もっと長生きできてもいいはずだが'\n",
        "]"
      ],
      "execution_count": 6,
      "outputs": []
    },
    {
      "cell_type": "markdown",
      "metadata": {
        "id": "uldShU4-1lWT"
      },
      "source": [
        "## asari\n",
        "\n",
        "- Source code: [asari](https://github.com/Hironsan/asari)\n",
        "- 解説記事: [日本語 Sentiment Analyzer を作ってパッケージ化した話 - Ahogrammer](https://hironsan.hatenablog.com/entry/japanese-sentiment-analyzer)\n",
        "- 手法:\n",
        "    - scikit-learn のみ利用\n",
        "    - 文章を tf-idf (term frequency–inverse document frequency) でベクトル表現に変換し、それを線形カーネルのサポートベクトルマシンを使って分類問題として文章がポジティヴかネガティヴかを判定している。\n",
        "    - Deep Learning モデルである BERT による予測と遜色ない性能をしめしたとのこと。\n",
        "    - どのトレーニングデータセットを使って学習したかが不明なので、どういった種類の文章で適切に判定できるかが不明。\n",
        "- ライセンス: MIT\n",
        "- [デモサイト](https://asari-sentiment.herokuapp.com/)"
      ]
    },
    {
      "cell_type": "code",
      "metadata": {
        "id": "JQuI8h0PZOKC"
      },
      "source": [
        "%%capture capt\n",
        "\n",
        "# シンプルな動作確認\n",
        "from asari.api import Sonar\n",
        "sonar = Sonar()\n",
        "res = sonar.ping(text=\"広告多すぎる♡\")\n",
        "res "
      ],
      "execution_count": null,
      "outputs": []
    },
    {
      "cell_type": "code",
      "metadata": {
        "colab": {
          "base_uri": "https://localhost:8080/",
          "height": 357
        },
        "id": "BMDgp7Lq1RdL",
        "outputId": "45b16e05-c51b-4b37-e521-fc90592bf7f5"
      },
      "source": [
        "list(map(sonar.ping, list_text))"
      ],
      "execution_count": null,
      "outputs": [
        {
          "output_type": "execute_result",
          "data": {
            "text/plain": [
              "[{'classes': [{'class_name': 'negative', 'confidence': 0.10382535749585702},\n",
              "   {'class_name': 'positive', 'confidence': 0.896174642504143}],\n",
              "  'text': 'この人は、この世の中で、いちばんしあわせな人にちがいありません。',\n",
              "  'top_class': 'positive'},\n",
              " {'classes': [{'class_name': 'negative', 'confidence': 0.035517582235360945},\n",
              "   {'class_name': 'positive', 'confidence': 0.964482417764639}],\n",
              "  'text': '芝居小屋もすばらしいし、お客さんもすばらしい人たちでした。',\n",
              "  'top_class': 'positive'},\n",
              " {'classes': [{'class_name': 'negative', 'confidence': 0.5815274190768989},\n",
              "   {'class_name': 'positive', 'confidence': 0.41847258092310113}],\n",
              "  'text': 'もし中世の時代だったら、おそらく、火あぶりにされたでしょうよ。',\n",
              "  'top_class': 'negative'},\n",
              " {'classes': [{'class_name': 'negative', 'confidence': 0.2692695045573754},\n",
              "   {'class_name': 'positive', 'confidence': 0.7307304954426246}],\n",
              "  'text': 'みんなのうるさいことといったら、まるで、ハエがびんの中で、ブンブンいっているようでした。',\n",
              "  'top_class': 'positive'},\n",
              " {'classes': [{'class_name': 'negative', 'confidence': 0.050528495655525495},\n",
              "   {'class_name': 'positive', 'confidence': 0.9494715043444746}],\n",
              "  'text': 'われわれ人間が、こういうことを考えだすことができるとすれば、われわれは、地の中にうめられるまでに、もっと長生きできてもいいはずだが',\n",
              "  'top_class': 'positive'}]"
            ]
          },
          "metadata": {
            "tags": []
          },
          "execution_count": 5
        }
      ]
    },
    {
      "cell_type": "markdown",
      "metadata": {
        "id": "3Z4JBFSX5EHQ"
      },
      "source": [
        "「みんなのうるさいことといったら、まるで、ハエがびんの中で、ブンブンいっているようでした。」という文章は直感的にはネガティヴな印象であるが、ポジティヴとの判定になった。\n",
        "\n",
        "他の例については妥当な判定が出ていそう。"
      ]
    },
    {
      "cell_type": "markdown",
      "metadata": {
        "id": "wo1kuGAz5a3_"
      },
      "source": [
        "## oseti\n",
        "\n",
        "- Source code: [oseti](https://github.com/ikegami-yukino/oseti)\n",
        "- 解説記事: [日本語評価極性辞書を利用したPython用Sentiment Analysisライブラリ oseti を公開しました - Qiita](https://qiita.com/yukinoi/items/46aa016d83bb0e64f598)\n",
        "- 手法:\n",
        "    - [日本語評価極性辞書](http://www.cl.ecei.tohoku.ac.jp/index.php?Open%20Resources%2FJapanese%20Sentiment%20Polarity%20Dictionary) ベース\n",
        "    - 否定表現が文末にある場合は、ネガティヴとポジティヴを反転させている ([code](https://github.com/ikegami-yukino/oseti/blob/1a5dc38ea5688b927fbc4593ffeacad11b2ab491/oseti/oseti.py#L57))\n",
        "    - 「あるじゃない」という文末が考慮されていて面白い ([code](https://github.com/ikegami-yukino/oseti/blob/1a5dc38ea5688b927fbc4593ffeacad11b2ab491/oseti/oseti.py#L30-L31))\n",
        "- ライセンス: MIT"
      ]
    },
    {
      "cell_type": "code",
      "metadata": {
        "colab": {
          "base_uri": "https://localhost:8080/",
          "height": 34
        },
        "id": "3OLb3pmx93_M",
        "outputId": "17534ebf-76dc-46c6-ae92-8badb4079868"
      },
      "source": [
        "# シンプルな動作確認\n",
        "import oseti\n",
        "\n",
        "analyzer = oseti.Analyzer()\n",
        "analyzer.analyze('天国で待ってる。')"
      ],
      "execution_count": null,
      "outputs": [
        {
          "output_type": "execute_result",
          "data": {
            "text/plain": [
              "[1.0]"
            ]
          },
          "metadata": {
            "tags": []
          },
          "execution_count": 6
        }
      ]
    },
    {
      "cell_type": "code",
      "metadata": {
        "colab": {
          "base_uri": "https://localhost:8080/",
          "height": 34
        },
        "id": "6dHP5jNe-G9h",
        "outputId": "c74e9849-9a0d-4e8b-b1bb-bc474e3e36a3"
      },
      "source": [
        "list(map(analyzer.analyze, list_text))"
      ],
      "execution_count": null,
      "outputs": [
        {
          "output_type": "execute_result",
          "data": {
            "text/plain": [
              "[[0.0], [1.0], [0], [0], [1.0]]"
            ]
          },
          "metadata": {
            "tags": []
          },
          "execution_count": 7
        }
      ]
    },
    {
      "cell_type": "markdown",
      "metadata": {
        "id": "c2shdlp3-jD2"
      },
      "source": [
        "2番めの文章「芝居小屋もすばらしいし、お客さんもすばらしい人たちでした。」\n",
        "\n",
        "と\n",
        "\n",
        "5番目の文章「われわれ人間が、こういうことを考えだすことができるとすれば、われわれは、地の中にうめられるまでに、もっと長生きできてもいいはずだが」\n",
        "\n",
        "のみポジティヴ (+1) 判定で、他の文章に関しては ニュートラルの判定。\n",
        "\n",
        "やはり、辞書ベースだと、辞書に含まれていない単語には弱いという印象。"
      ]
    },
    {
      "cell_type": "markdown",
      "metadata": {
        "id": "I6YsSSFhZOKQ"
      },
      "source": [
        "## pymlask\n",
        "\n",
        "パッケージの作者は oseti と同じ。\n",
        "\n",
        "- Source code: [pymlask](https://github.com/ikegami-yukino/pymlask)\n",
        "- 解説記事: [ML-Askでテキストの感情分析 - Qiita](https://qiita.com/yukinoi/items/ef6fb48b5e3694e9659c)\n",
        "- 手法:\n",
        "    - [ML-Ask (eMotive eLement and Expression Analysis system)](http://arakilab.media.eng.hokudai.ac.jp/~ptaszynski/repository/mlask.htm) というライブラリを python で使えるようにしたパッケージ\n",
        "    - 2,100語の辞書によるパターンマッチングで{喜, 怒, 哀, 怖, 恥, 好, 厭, 昂, 安, 驚}の10種類の感情を推定\n",
        "- ライセンス: The BSD 3-Clause License"
      ]
    },
    {
      "cell_type": "code",
      "metadata": {
        "colab": {
          "base_uri": "https://localhost:8080/",
          "height": 170
        },
        "id": "0gKMsaqqZOKR",
        "outputId": "96621c52-64f5-468a-e22c-54b554a51db2"
      },
      "source": [
        "# シンプルな動作確認\n",
        "import mlask\n",
        "emotion_analyzer = mlask.MLAsk()\n",
        "emotion_analyzer.analyze('彼のことは嫌いではない！(;´Д`)')\n",
        "# => {'text': '彼のことは嫌いではない！(;´Д`)',\n",
        "#     'emotion': defaultdict(<class 'list'>,{'yorokobi': ['嫌い*CVS'], 'suki': ['嫌い*CVS']}),\n",
        "#     'orientation': 'POSITIVE',\n",
        "#     'activation': 'NEUTRAL',\n",
        "#     'emoticon': ['(;´Д`)'],\n",
        "#     'intension': 2,\n",
        "#     'intensifier': {'exclamation': ['！'], 'emotikony': ['´Д`', 'Д`', '´Д', '(;´Д`)']},\n",
        "#     'representative': ('yorokobi', ['嫌い*CVS'])\n",
        "#     }"
      ],
      "execution_count": null,
      "outputs": [
        {
          "output_type": "execute_result",
          "data": {
            "text/plain": [
              "{'activation': 'NEUTRAL',\n",
              " 'emoticon': ['(;´Д`)'],\n",
              " 'emotion': defaultdict(list, {'suki': ['嫌い*CVS'], 'yorokobi': ['嫌い*CVS']}),\n",
              " 'intensifier': {'emotikony': ['´Д`', 'Д`', '´Д', '(;´Д`)'],\n",
              "  'exclamation': ['！']},\n",
              " 'intension': 2,\n",
              " 'orientation': 'POSITIVE',\n",
              " 'representative': ('yorokobi', ['嫌い*CVS']),\n",
              " 'text': '彼のことは嫌いではない！(;´Д`)'}"
            ]
          },
          "metadata": {
            "tags": []
          },
          "execution_count": 8
        }
      ]
    },
    {
      "cell_type": "code",
      "metadata": {
        "colab": {
          "base_uri": "https://localhost:8080/",
          "height": 238
        },
        "id": "E365_RADZOKU",
        "outputId": "4801dde8-4f95-4382-dd75-19e5be3f33a6"
      },
      "source": [
        "# せっかくなので、neologd 辞書を使ってみる\n",
        "\n",
        "# mecab-ipadic-neologd のインストール先を調べる\n",
        "import subprocess\n",
        "\n",
        "cmd='echo `mecab-config --dicdir`\"/mecab-ipadic-neologd\"'\n",
        "path = (subprocess.Popen(cmd, stdout=subprocess.PIPE,\n",
        "                           shell=True).communicate()[0]).decode('utf-8')\n",
        "                           \n",
        "emotion_analyzer = mlask.MLAsk('-d {0}'.format(path))  # Use other dictionary\n",
        "\n",
        "list(map(emotion_analyzer.analyze, list_text))"
      ],
      "execution_count": null,
      "outputs": [
        {
          "output_type": "execute_result",
          "data": {
            "text/plain": [
              "[{'activation': 'NEUTRAL',\n",
              "  'emoticon': None,\n",
              "  'emotion': defaultdict(list, {'yorokobi': ['しあわせ']}),\n",
              "  'intensifier': {},\n",
              "  'intension': 0,\n",
              "  'orientation': 'POSITIVE',\n",
              "  'representative': ('yorokobi', ['しあわせ']),\n",
              "  'text': 'この人は、この世の中で、いちばんしあわせな人にちがいありません。'},\n",
              " {'emotion': None, 'text': '芝居小屋もすばらしいし、お客さんもすばらしい人たちでした。'},\n",
              " {'emotion': None, 'text': 'もし中世の時代だったら、おそらく、火あぶりにされたでしょうよ。'},\n",
              " {'emotion': None, 'text': 'みんなのうるさいことといったら、まるで、ハエがびんの中で、ブンブンいっているようでした。'},\n",
              " {'emotion': None,\n",
              "  'text': 'われわれ人間が、こういうことを考えだすことができるとすれば、われわれは、地の中にうめられるまでに、もっと長生きできてもいいはずだが'}]"
            ]
          },
          "metadata": {
            "tags": []
          },
          "execution_count": 9
        }
      ]
    },
    {
      "cell_type": "markdown",
      "metadata": {
        "id": "xV2jHNZODF2A"
      },
      "source": [
        "こちらの手法も、辞書にある単語（しあわせ）があるとポジティヴと判定があるが、辞書にはないと判定が不可能。\n",
        "\n",
        "いまいちな結果という印象。"
      ]
    },
    {
      "cell_type": "markdown",
      "metadata": {
        "id": "LA0MzIZiYpUU"
      },
      "source": [
        "## huggingface の bert-base-japanese-sentiment\n",
        "\n",
        "- [huggingface の bert-base-japanese-sentiment](https://huggingface.co/daigo/bert-base-japanese-sentiment)\n",
        "    - 解説記事: [bert-base-japanese-sentiment モデル作者の BERT HANDSON 資料](https://github.com/ydaigo/BERT_HANDSON/blob/master/BERT_HANDS_ON.ipynb)\n",
        "    - ネガポジ判定 (ポジティヴとネガティヴの binary classification)\n",
        "    - ライセンス: Apache-2.0 License"
      ]
    },
    {
      "cell_type": "code",
      "metadata": {
        "id": "m26RzJ5baFP6",
        "outputId": "c5b031ef-ac2d-4194-ccd5-10c56e25446f",
        "colab": {
          "base_uri": "https://localhost:8080/"
        }
      },
      "source": [
        "# 必要なライブラリのインストール\n",
        "!pip install -q transformers"
      ],
      "execution_count": 1,
      "outputs": [
        {
          "output_type": "stream",
          "text": [
            "\u001b[K     |████████████████████████████████| 2.1MB 8.7MB/s \n",
            "\u001b[K     |████████████████████████████████| 3.2MB 41.5MB/s \n",
            "\u001b[K     |████████████████████████████████| 890kB 52.9MB/s \n",
            "\u001b[?25h  Building wheel for sacremoses (setup.py) ... \u001b[?25l\u001b[?25hdone\n"
          ],
          "name": "stdout"
        }
      ]
    },
    {
      "cell_type": "code",
      "metadata": {
        "id": "5Td3RaPLadnv"
      },
      "source": [
        "%%capture capt\n",
        "\n",
        "from transformers import BertTokenizer, BertForSequenceClassification, pipeline\n",
        "\n",
        "tokenizer = BertTokenizer.from_pretrained(\"daigo/bert-base-japanese-sentiment\")\n",
        "model = BertForSequenceClassification.from_pretrained(\"daigo/bert-base-japanese-sentiment\")"
      ],
      "execution_count": 4,
      "outputs": []
    },
    {
      "cell_type": "code",
      "metadata": {
        "colab": {
          "base_uri": "https://localhost:8080/"
        },
        "id": "94SGBozdajiA",
        "outputId": "77cbbe22-2b3e-41c0-f1bb-d12e1a2e9528"
      },
      "source": [
        "# シンプルな動作確認\n",
        "\n",
        "print(pipeline(\"sentiment-analysis\",model=model, tokenizer=tokenizer)(\"私は幸福である。\"))"
      ],
      "execution_count": 5,
      "outputs": [
        {
          "output_type": "stream",
          "text": [
            "[{'label': 'ポジティブ', 'score': 0.9934489130973816}]\n"
          ],
          "name": "stdout"
        }
      ]
    },
    {
      "cell_type": "code",
      "metadata": {
        "colab": {
          "base_uri": "https://localhost:8080/"
        },
        "id": "i-XFVcSWatlF",
        "outputId": "7e414268-0804-4b53-bcf1-52bd346b47a4"
      },
      "source": [
        "sentiment_analyzer = pipeline(\"sentiment-analysis\",model=model, tokenizer=tokenizer)\n",
        "\n",
        "list(map(sentiment_analyzer, list_text))"
      ],
      "execution_count": 7,
      "outputs": [
        {
          "output_type": "execute_result",
          "data": {
            "text/plain": [
              "[[{'label': 'ポジティブ', 'score': 0.9596116542816162}],\n",
              " [{'label': 'ポジティブ', 'score': 0.6044701933860779}],\n",
              " [{'label': 'ポジティブ', 'score': 0.8851077556610107}],\n",
              " [{'label': 'ポジティブ', 'score': 0.6943467855453491}],\n",
              " [{'label': 'ポジティブ', 'score': 0.5758240222930908}]]"
            ]
          },
          "metadata": {
            "tags": []
          },
          "execution_count": 7
        }
      ]
    },
    {
      "cell_type": "code",
      "metadata": {
        "colab": {
          "base_uri": "https://localhost:8080/"
        },
        "id": "uvY1otPrazoP",
        "outputId": "6d52b5de-3222-4aee-ec07-04584e2e4099"
      },
      "source": [
        "# 上記すべてポジティヴ判定になってしまったので、他の例でも試してみる\n",
        "\n",
        "list(map(sentiment_analyzer, ['最悪だ', '今日は暑い', 'こんにちは', 'ふつう']))"
      ],
      "execution_count": 8,
      "outputs": [
        {
          "output_type": "execute_result",
          "data": {
            "text/plain": [
              "[[{'label': 'ネガティブ', 'score': 0.9891454577445984}],\n",
              " [{'label': 'ネガティブ', 'score': 0.8046908974647522}],\n",
              " [{'label': 'ポジティブ', 'score': 0.9862995147705078}],\n",
              " [{'label': 'ポジティブ', 'score': 0.9928306937217712}]]"
            ]
          },
          "metadata": {
            "tags": []
          },
          "execution_count": 8
        }
      ]
    },
    {
      "cell_type": "markdown",
      "metadata": {
        "id": "ZIyfVNa5bK49"
      },
      "source": [
        "用意したすべての例文すべてがポジティヴ判定になってしまったので、他の例でも試してみた。\n",
        "\n",
        "わかりやすいネガティヴな文章は、ネガティヴと判定されるよう。\n",
        "\n",
        "ニュートラルな文章は、ポジティヴに判定されやすい傾向がありそう。"
      ]
    },
    {
      "cell_type": "markdown",
      "metadata": {
        "id": "4QciH4YRDhBf"
      },
      "source": [
        "## まとめ\n",
        "\n",
        "日本語文章の感情分析を簡単にできるツールを試してみました。\n",
        "\n",
        "こういったツールを公開していただけていることに感謝ですね。\n",
        "\n",
        "真面目に感情分析やって、もっと妥当な結果を出そうとすると、トレーニングデータセットを充実させたり、さらに工夫が必要になりそうです。\n",
        "\n",
        "(手法ごとの感情分析の結果を定量的に評価するためのデータセット、いいのないだろうか。。。)"
      ]
    },
    {
      "cell_type": "markdown",
      "metadata": {
        "id": "R6shDWHlEPd4"
      },
      "source": [
        "## 参考\n",
        "\n",
        "### 解説、まとめ記事\n",
        "\n",
        "- [【27個掲載】文章、表情、音声の感情分析に使えるデータセットまとめ | Lionbridge AI](https://lionbridge.ai/ja/datasets/15-free-sentiment-analysis-datasets-for-machine-learning/)\n",
        "    - リソースや極性辞書へのリンクなど\n",
        "- [筑波大学 乾先生の感情分析リンクまとめ](http://www.nlp.mibel.cs.tsukuba.ac.jp/~inui/SA/links.html)\n",
        "- [【自然言語処理】感情分析の進め方＆ハマりやすいポイント - Qiita](https://qiita.com/toshiyuki_tsutsui/items/604f92dbe6e20a18a17e)\n",
        "- [日本語 Sentiment Analyzer を作ってパッケージ化した話 - Ahogrammer](https://hironsan.hatenablog.com/entry/japanese-sentiment-analyzer)\n",
        "- [ディープラーニングを使って転職会議の企業クチコミデータを感情分析してみる - Qiita](https://qiita.com/terrierscript/items/54daa5aedde599e2637c)\n",
        "- [小説「天気の子」を丸ごと一冊、感情分析してみた☔️ - Qiita](https://qiita.com/toshiyuki_tsutsui/items/10f52c30fe1504b83ba1)\n",
        "- [日本語評価極性辞書を利用したPython用Sentiment Analysisライブラリ oseti を公開しました - Qiita](https://qiita.com/yukinoi/items/46aa016d83bb0e64f598)\n",
        "- [ML-Askでテキストの感情分析 - Qiita](https://qiita.com/yukinoi/items/ef6fb48b5e3694e9659c)\n",
        "- [bert-base-japanese-sentiment モデル作者の BERT HANDSON 資料](https://github.com/ydaigo/BERT_HANDSON/blob/master/BERT_HANDS_ON.ipynb)\n",
        "\n",
        "### 感情分析日本語データセット\n",
        "\n",
        "- [SNOW D18:日本語感情表現辞書 - 長岡技術科学大学 自然言語処理研究室](http://www.jnlp.org/SNOW/D18)\n",
        "    - 長岡技術科学大学 自然言語処理研究室\n",
        "    - 約2,000表現を収録し、各表現に対して我々が独自に定義した48分類の感情を付与"
      ]
    }
  ]
}